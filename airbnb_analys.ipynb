{
 "cells": [
  {
   "cell_type": "markdown",
   "id": "7f64ce73",
   "metadata": {},
   "source": [
    "## Python Project EDA & Data Viz - AirBnB Listing 2024(New York)\n",
    "### steps\n",
    "\n",
    "1. importing all dependenices (lib)\n",
    "2. loading datasets\n",
    "3. initial exploration\n",
    "4. Data cleaning\n",
    "5. Data Analysis"
   ]
  },
  {
   "cell_type": "markdown",
   "id": "62c8b281",
   "metadata": {},
   "source": [
    "1. importing all dependenices (lib)"
   ]
  },
  {
   "cell_type": "code",
   "execution_count": 1,
   "id": "7c96cf51",
   "metadata": {},
   "outputs": [],
   "source": [
    "import pandas as pd\n",
    "import numpy as np\n",
    "import matplotlib.pyplot as plt\n",
    "import seaborn as sns\n",
    "\n",
    "%matplotlib inline"
   ]
  },
  {
   "cell_type": "markdown",
   "id": "0ed9750b",
   "metadata": {},
   "source": [
    "2. Loading Datsets"
   ]
  },
  {
   "cell_type": "code",
   "execution_count": 3,
   "id": "34949cbf",
   "metadata": {},
   "outputs": [],
   "source": [
    "data = pd.read_csv('datasets.csv', encoding_errors='ignore')\n"
   ]
  }
 ],
 "metadata": {
  "kernelspec": {
   "display_name": "base",
   "language": "python",
   "name": "python3"
  },
  "language_info": {
   "codemirror_mode": {
    "name": "ipython",
    "version": 3
   },
   "file_extension": ".py",
   "mimetype": "text/x-python",
   "name": "python",
   "nbconvert_exporter": "python",
   "pygments_lexer": "ipython3",
   "version": "3.12.7"
  }
 },
 "nbformat": 4,
 "nbformat_minor": 5
}
