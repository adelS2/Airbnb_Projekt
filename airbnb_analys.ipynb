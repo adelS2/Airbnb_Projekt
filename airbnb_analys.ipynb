{
 "cells": [
  {
   "cell_type": "markdown",
   "id": "7f64ce73",
   "metadata": {},
   "source": [
    "## Python Project EDA & Data Viz - AirBnB Listing 2024(New York)\n",
    "### steps\n",
    "\n",
    "1. importing all dependenices (lib)\n",
    "2. loading datasets\n",
    "3. initial exploration\n",
    "4. Data cleaning\n",
    "5. Data Analysis"
   ]
  },
  {
   "cell_type": "markdown",
   "id": "62c8b281",
   "metadata": {},
   "source": [
    "1. importing all dependenices (lib)"
   ]
  },
  {
   "cell_type": "code",
   "execution_count": 1,
   "id": "7c96cf51",
   "metadata": {},
   "outputs": [],
   "source": [
    "import pandas as pd\n",
    "import numpy as np\n",
    "import matplotlib.pyplot as plt\n",
    "import seaborn as sns\n",
    "\n",
    "%matplotlib inline"
   ]
  },
  {
   "cell_type": "markdown",
   "id": "0ed9750b",
   "metadata": {},
   "source": [
    "2. Loading Datsets"
   ]
  },
  {
   "cell_type": "code",
   "execution_count": 3,
   "id": "34949cbf",
   "metadata": {},
   "outputs": [],
   "source": [
    "data = pd.read_csv('datasets.csv', encoding_errors='ignore')\n"
   ]
  },
  {
   "cell_type": "markdown",
   "id": "8950b08f",
   "metadata": {},
   "source": [
    "3. Initial Exploration"
   ]
  },
  {
   "cell_type": "code",
   "execution_count": 4,
   "id": "df1ca5cd",
   "metadata": {},
   "outputs": [
    {
     "data": {
      "text/html": [
       "<div>\n",
       "<style scoped>\n",
       "    .dataframe tbody tr th:only-of-type {\n",
       "        vertical-align: middle;\n",
       "    }\n",
       "\n",
       "    .dataframe tbody tr th {\n",
       "        vertical-align: top;\n",
       "    }\n",
       "\n",
       "    .dataframe thead th {\n",
       "        text-align: right;\n",
       "    }\n",
       "</style>\n",
       "<table border=\"1\" class=\"dataframe\">\n",
       "  <thead>\n",
       "    <tr style=\"text-align: right;\">\n",
       "      <th></th>\n",
       "      <th>id</th>\n",
       "      <th>name</th>\n",
       "      <th>host_id</th>\n",
       "      <th>host_name</th>\n",
       "      <th>neighbourhood_group</th>\n",
       "      <th>neighbourhood</th>\n",
       "      <th>latitude</th>\n",
       "      <th>longitude</th>\n",
       "      <th>room_type</th>\n",
       "      <th>price</th>\n",
       "      <th>...</th>\n",
       "      <th>last_review</th>\n",
       "      <th>reviews_per_month</th>\n",
       "      <th>calculated_host_listings_count</th>\n",
       "      <th>availability_365</th>\n",
       "      <th>number_of_reviews_ltm</th>\n",
       "      <th>license</th>\n",
       "      <th>rating</th>\n",
       "      <th>bedrooms</th>\n",
       "      <th>beds</th>\n",
       "      <th>baths</th>\n",
       "    </tr>\n",
       "  </thead>\n",
       "  <tbody>\n",
       "    <tr>\n",
       "      <th>0</th>\n",
       "      <td>1.312228e+06</td>\n",
       "      <td>Rental unit in Brooklyn · ★5.0 · 1 bedroom</td>\n",
       "      <td>7130382</td>\n",
       "      <td>Walter</td>\n",
       "      <td>Brooklyn</td>\n",
       "      <td>Clinton Hill</td>\n",
       "      <td>40.683710</td>\n",
       "      <td>-73.964610</td>\n",
       "      <td>Private room</td>\n",
       "      <td>55.0</td>\n",
       "      <td>...</td>\n",
       "      <td>20/12/15</td>\n",
       "      <td>0.03</td>\n",
       "      <td>1.0</td>\n",
       "      <td>0.0</td>\n",
       "      <td>0.0</td>\n",
       "      <td>No License</td>\n",
       "      <td>5</td>\n",
       "      <td>1</td>\n",
       "      <td>1</td>\n",
       "      <td>Not specified</td>\n",
       "    </tr>\n",
       "    <tr>\n",
       "      <th>1</th>\n",
       "      <td>4.527754e+07</td>\n",
       "      <td>Rental unit in New York · ★4.67 · 2 bedrooms ·...</td>\n",
       "      <td>51501835</td>\n",
       "      <td>Jeniffer</td>\n",
       "      <td>Manhattan</td>\n",
       "      <td>Hell's Kitchen</td>\n",
       "      <td>40.766610</td>\n",
       "      <td>-73.988100</td>\n",
       "      <td>Entire home/apt</td>\n",
       "      <td>144.0</td>\n",
       "      <td>...</td>\n",
       "      <td>01/05/23</td>\n",
       "      <td>0.24</td>\n",
       "      <td>139.0</td>\n",
       "      <td>364.0</td>\n",
       "      <td>2.0</td>\n",
       "      <td>No License</td>\n",
       "      <td>4.67</td>\n",
       "      <td>2</td>\n",
       "      <td>1</td>\n",
       "      <td>1</td>\n",
       "    </tr>\n",
       "    <tr>\n",
       "      <th>2</th>\n",
       "      <td>9.710000e+17</td>\n",
       "      <td>Rental unit in New York · ★4.17 · 1 bedroom · ...</td>\n",
       "      <td>528871354</td>\n",
       "      <td>Joshua</td>\n",
       "      <td>Manhattan</td>\n",
       "      <td>Chelsea</td>\n",
       "      <td>40.750764</td>\n",
       "      <td>-73.994605</td>\n",
       "      <td>Entire home/apt</td>\n",
       "      <td>187.0</td>\n",
       "      <td>...</td>\n",
       "      <td>18/12/23</td>\n",
       "      <td>1.67</td>\n",
       "      <td>1.0</td>\n",
       "      <td>343.0</td>\n",
       "      <td>6.0</td>\n",
       "      <td>Exempt</td>\n",
       "      <td>4.17</td>\n",
       "      <td>1</td>\n",
       "      <td>2</td>\n",
       "      <td>1</td>\n",
       "    </tr>\n",
       "    <tr>\n",
       "      <th>3</th>\n",
       "      <td>3.857863e+06</td>\n",
       "      <td>Rental unit in New York · ★4.64 · 1 bedroom · ...</td>\n",
       "      <td>19902271</td>\n",
       "      <td>John And Catherine</td>\n",
       "      <td>Manhattan</td>\n",
       "      <td>Washington Heights</td>\n",
       "      <td>40.835600</td>\n",
       "      <td>-73.942500</td>\n",
       "      <td>Private room</td>\n",
       "      <td>120.0</td>\n",
       "      <td>...</td>\n",
       "      <td>17/09/23</td>\n",
       "      <td>1.38</td>\n",
       "      <td>2.0</td>\n",
       "      <td>363.0</td>\n",
       "      <td>12.0</td>\n",
       "      <td>No License</td>\n",
       "      <td>4.64</td>\n",
       "      <td>1</td>\n",
       "      <td>1</td>\n",
       "      <td>1</td>\n",
       "    </tr>\n",
       "    <tr>\n",
       "      <th>4</th>\n",
       "      <td>4.089661e+07</td>\n",
       "      <td>Condo in New York · ★4.91 · Studio · 1 bed · 1...</td>\n",
       "      <td>61391963</td>\n",
       "      <td>Stay With Vibe</td>\n",
       "      <td>Manhattan</td>\n",
       "      <td>Murray Hill</td>\n",
       "      <td>40.751120</td>\n",
       "      <td>-73.978600</td>\n",
       "      <td>Entire home/apt</td>\n",
       "      <td>85.0</td>\n",
       "      <td>...</td>\n",
       "      <td>03/12/23</td>\n",
       "      <td>0.24</td>\n",
       "      <td>133.0</td>\n",
       "      <td>335.0</td>\n",
       "      <td>3.0</td>\n",
       "      <td>No License</td>\n",
       "      <td>4.91</td>\n",
       "      <td>Studio</td>\n",
       "      <td>1</td>\n",
       "      <td>1</td>\n",
       "    </tr>\n",
       "  </tbody>\n",
       "</table>\n",
       "<p>5 rows × 22 columns</p>\n",
       "</div>"
      ],
      "text/plain": [
       "             id                                               name    host_id  \\\n",
       "0  1.312228e+06         Rental unit in Brooklyn · ★5.0 · 1 bedroom    7130382   \n",
       "1  4.527754e+07  Rental unit in New York · ★4.67 · 2 bedrooms ·...   51501835   \n",
       "2  9.710000e+17  Rental unit in New York · ★4.17 · 1 bedroom · ...  528871354   \n",
       "3  3.857863e+06  Rental unit in New York · ★4.64 · 1 bedroom · ...   19902271   \n",
       "4  4.089661e+07  Condo in New York · ★4.91 · Studio · 1 bed · 1...   61391963   \n",
       "\n",
       "            host_name neighbourhood_group       neighbourhood   latitude  \\\n",
       "0              Walter            Brooklyn        Clinton Hill  40.683710   \n",
       "1            Jeniffer           Manhattan      Hell's Kitchen  40.766610   \n",
       "2              Joshua           Manhattan             Chelsea  40.750764   \n",
       "3  John And Catherine           Manhattan  Washington Heights  40.835600   \n",
       "4      Stay With Vibe           Manhattan         Murray Hill  40.751120   \n",
       "\n",
       "   longitude        room_type  price  ...  last_review  reviews_per_month  \\\n",
       "0 -73.964610     Private room   55.0  ...     20/12/15               0.03   \n",
       "1 -73.988100  Entire home/apt  144.0  ...     01/05/23               0.24   \n",
       "2 -73.994605  Entire home/apt  187.0  ...     18/12/23               1.67   \n",
       "3 -73.942500     Private room  120.0  ...     17/09/23               1.38   \n",
       "4 -73.978600  Entire home/apt   85.0  ...     03/12/23               0.24   \n",
       "\n",
       "  calculated_host_listings_count  availability_365  number_of_reviews_ltm  \\\n",
       "0                            1.0               0.0                    0.0   \n",
       "1                          139.0             364.0                    2.0   \n",
       "2                            1.0             343.0                    6.0   \n",
       "3                            2.0             363.0                   12.0   \n",
       "4                          133.0             335.0                    3.0   \n",
       "\n",
       "      license  rating bedrooms beds          baths  \n",
       "0  No License       5        1    1  Not specified  \n",
       "1  No License    4.67        2    1              1  \n",
       "2      Exempt    4.17        1    2              1  \n",
       "3  No License    4.64        1    1              1  \n",
       "4  No License    4.91   Studio    1              1  \n",
       "\n",
       "[5 rows x 22 columns]"
      ]
     },
     "execution_count": 4,
     "metadata": {},
     "output_type": "execute_result"
    }
   ],
   "source": [
    "data.head()"
   ]
  },
  {
   "cell_type": "code",
   "execution_count": 5,
   "id": "bb7eb247",
   "metadata": {},
   "outputs": [
    {
     "data": {
      "text/html": [
       "<div>\n",
       "<style scoped>\n",
       "    .dataframe tbody tr th:only-of-type {\n",
       "        vertical-align: middle;\n",
       "    }\n",
       "\n",
       "    .dataframe tbody tr th {\n",
       "        vertical-align: top;\n",
       "    }\n",
       "\n",
       "    .dataframe thead th {\n",
       "        text-align: right;\n",
       "    }\n",
       "</style>\n",
       "<table border=\"1\" class=\"dataframe\">\n",
       "  <thead>\n",
       "    <tr style=\"text-align: right;\">\n",
       "      <th></th>\n",
       "      <th>id</th>\n",
       "      <th>name</th>\n",
       "      <th>host_id</th>\n",
       "      <th>host_name</th>\n",
       "      <th>neighbourhood_group</th>\n",
       "      <th>neighbourhood</th>\n",
       "      <th>latitude</th>\n",
       "      <th>longitude</th>\n",
       "      <th>room_type</th>\n",
       "      <th>price</th>\n",
       "      <th>...</th>\n",
       "      <th>last_review</th>\n",
       "      <th>reviews_per_month</th>\n",
       "      <th>calculated_host_listings_count</th>\n",
       "      <th>availability_365</th>\n",
       "      <th>number_of_reviews_ltm</th>\n",
       "      <th>license</th>\n",
       "      <th>rating</th>\n",
       "      <th>bedrooms</th>\n",
       "      <th>beds</th>\n",
       "      <th>baths</th>\n",
       "    </tr>\n",
       "  </thead>\n",
       "  <tbody>\n",
       "    <tr>\n",
       "      <th>20765</th>\n",
       "      <td>2.473690e+07</td>\n",
       "      <td>Rental unit in New York · ★4.75 · 1 bedroom · ...</td>\n",
       "      <td>186680487</td>\n",
       "      <td>Henry D</td>\n",
       "      <td>Manhattan</td>\n",
       "      <td>Lower East Side</td>\n",
       "      <td>40.711380</td>\n",
       "      <td>-73.991560</td>\n",
       "      <td>Private room</td>\n",
       "      <td>45.0</td>\n",
       "      <td>...</td>\n",
       "      <td>29/09/23</td>\n",
       "      <td>1.81</td>\n",
       "      <td>1.0</td>\n",
       "      <td>157.0</td>\n",
       "      <td>12.0</td>\n",
       "      <td>No License</td>\n",
       "      <td>4.75</td>\n",
       "      <td>1</td>\n",
       "      <td>1</td>\n",
       "      <td>1</td>\n",
       "    </tr>\n",
       "    <tr>\n",
       "      <th>20766</th>\n",
       "      <td>2.835711e+06</td>\n",
       "      <td>Rental unit in New York · ★4.46 · 1 bedroom · ...</td>\n",
       "      <td>3237504</td>\n",
       "      <td>Aspen</td>\n",
       "      <td>Manhattan</td>\n",
       "      <td>Greenwich Village</td>\n",
       "      <td>40.730580</td>\n",
       "      <td>-74.000700</td>\n",
       "      <td>Entire home/apt</td>\n",
       "      <td>105.0</td>\n",
       "      <td>...</td>\n",
       "      <td>01/07/23</td>\n",
       "      <td>0.48</td>\n",
       "      <td>1.0</td>\n",
       "      <td>0.0</td>\n",
       "      <td>1.0</td>\n",
       "      <td>No License</td>\n",
       "      <td>4.46</td>\n",
       "      <td>1</td>\n",
       "      <td>2</td>\n",
       "      <td>1</td>\n",
       "    </tr>\n",
       "    <tr>\n",
       "      <th>20767</th>\n",
       "      <td>5.182527e+07</td>\n",
       "      <td>Rental unit in New York · ★4.93 · 1 bedroom · ...</td>\n",
       "      <td>304317395</td>\n",
       "      <td>Jeff</td>\n",
       "      <td>Manhattan</td>\n",
       "      <td>Hell's Kitchen</td>\n",
       "      <td>40.757350</td>\n",
       "      <td>-73.993430</td>\n",
       "      <td>Entire home/apt</td>\n",
       "      <td>299.0</td>\n",
       "      <td>...</td>\n",
       "      <td>08/12/23</td>\n",
       "      <td>2.09</td>\n",
       "      <td>1.0</td>\n",
       "      <td>0.0</td>\n",
       "      <td>27.0</td>\n",
       "      <td>No License</td>\n",
       "      <td>4.93</td>\n",
       "      <td>1</td>\n",
       "      <td>1</td>\n",
       "      <td>1</td>\n",
       "    </tr>\n",
       "    <tr>\n",
       "      <th>20768</th>\n",
       "      <td>7.830000e+17</td>\n",
       "      <td>Rental unit in New York · ★5.0 · 1 bedroom · 1...</td>\n",
       "      <td>163083101</td>\n",
       "      <td>Marissa</td>\n",
       "      <td>Manhattan</td>\n",
       "      <td>Chinatown</td>\n",
       "      <td>40.713750</td>\n",
       "      <td>-73.991470</td>\n",
       "      <td>Entire home/apt</td>\n",
       "      <td>115.0</td>\n",
       "      <td>...</td>\n",
       "      <td>17/09/23</td>\n",
       "      <td>0.91</td>\n",
       "      <td>1.0</td>\n",
       "      <td>363.0</td>\n",
       "      <td>7.0</td>\n",
       "      <td>No License</td>\n",
       "      <td>5</td>\n",
       "      <td>1</td>\n",
       "      <td>1</td>\n",
       "      <td>1</td>\n",
       "    </tr>\n",
       "    <tr>\n",
       "      <th>20769</th>\n",
       "      <td>5.660000e+17</td>\n",
       "      <td>Rental unit in Queens · ★4.89 · 1 bedroom · 1 ...</td>\n",
       "      <td>93827372</td>\n",
       "      <td>Glenroy</td>\n",
       "      <td>Queens</td>\n",
       "      <td>Rosedale</td>\n",
       "      <td>40.658874</td>\n",
       "      <td>-73.728651</td>\n",
       "      <td>Private room</td>\n",
       "      <td>102.0</td>\n",
       "      <td>...</td>\n",
       "      <td>10/12/23</td>\n",
       "      <td>4.50</td>\n",
       "      <td>1.0</td>\n",
       "      <td>0.0</td>\n",
       "      <td>62.0</td>\n",
       "      <td>OSE-STRREG-0000513</td>\n",
       "      <td>4.89</td>\n",
       "      <td>1</td>\n",
       "      <td>1</td>\n",
       "      <td>1</td>\n",
       "    </tr>\n",
       "  </tbody>\n",
       "</table>\n",
       "<p>5 rows × 22 columns</p>\n",
       "</div>"
      ],
      "text/plain": [
       "                 id                                               name  \\\n",
       "20765  2.473690e+07  Rental unit in New York · ★4.75 · 1 bedroom · ...   \n",
       "20766  2.835711e+06  Rental unit in New York · ★4.46 · 1 bedroom · ...   \n",
       "20767  5.182527e+07  Rental unit in New York · ★4.93 · 1 bedroom · ...   \n",
       "20768  7.830000e+17  Rental unit in New York · ★5.0 · 1 bedroom · 1...   \n",
       "20769  5.660000e+17  Rental unit in Queens · ★4.89 · 1 bedroom · 1 ...   \n",
       "\n",
       "         host_id host_name neighbourhood_group      neighbourhood   latitude  \\\n",
       "20765  186680487   Henry D           Manhattan    Lower East Side  40.711380   \n",
       "20766    3237504     Aspen           Manhattan  Greenwich Village  40.730580   \n",
       "20767  304317395      Jeff           Manhattan     Hell's Kitchen  40.757350   \n",
       "20768  163083101   Marissa           Manhattan          Chinatown  40.713750   \n",
       "20769   93827372   Glenroy              Queens           Rosedale  40.658874   \n",
       "\n",
       "       longitude        room_type  price  ...  last_review  reviews_per_month  \\\n",
       "20765 -73.991560     Private room   45.0  ...     29/09/23               1.81   \n",
       "20766 -74.000700  Entire home/apt  105.0  ...     01/07/23               0.48   \n",
       "20767 -73.993430  Entire home/apt  299.0  ...     08/12/23               2.09   \n",
       "20768 -73.991470  Entire home/apt  115.0  ...     17/09/23               0.91   \n",
       "20769 -73.728651     Private room  102.0  ...     10/12/23               4.50   \n",
       "\n",
       "      calculated_host_listings_count  availability_365  number_of_reviews_ltm  \\\n",
       "20765                            1.0             157.0                   12.0   \n",
       "20766                            1.0               0.0                    1.0   \n",
       "20767                            1.0               0.0                   27.0   \n",
       "20768                            1.0             363.0                    7.0   \n",
       "20769                            1.0               0.0                   62.0   \n",
       "\n",
       "                  license  rating bedrooms beds baths  \n",
       "20765          No License    4.75        1    1     1  \n",
       "20766          No License    4.46        1    2     1  \n",
       "20767          No License    4.93        1    1     1  \n",
       "20768          No License       5        1    1     1  \n",
       "20769  OSE-STRREG-0000513    4.89        1    1     1  \n",
       "\n",
       "[5 rows x 22 columns]"
      ]
     },
     "execution_count": 5,
     "metadata": {},
     "output_type": "execute_result"
    }
   ],
   "source": [
    "data.tail()"
   ]
  },
  {
   "cell_type": "code",
   "execution_count": 6,
   "id": "f0e38048",
   "metadata": {},
   "outputs": [
    {
     "data": {
      "text/plain": [
       "(20770, 22)"
      ]
     },
     "execution_count": 6,
     "metadata": {},
     "output_type": "execute_result"
    }
   ],
   "source": [
    "data.shape"
   ]
  },
  {
   "cell_type": "code",
   "execution_count": 7,
   "id": "e0e1add3",
   "metadata": {},
   "outputs": [
    {
     "name": "stdout",
     "output_type": "stream",
     "text": [
      "<class 'pandas.core.frame.DataFrame'>\n",
      "RangeIndex: 20770 entries, 0 to 20769\n",
      "Data columns (total 22 columns):\n",
      " #   Column                          Non-Null Count  Dtype  \n",
      "---  ------                          --------------  -----  \n",
      " 0   id                              20770 non-null  float64\n",
      " 1   name                            20770 non-null  object \n",
      " 2   host_id                         20770 non-null  int64  \n",
      " 3   host_name                       20770 non-null  object \n",
      " 4   neighbourhood_group             20770 non-null  object \n",
      " 5   neighbourhood                   20763 non-null  object \n",
      " 6   latitude                        20763 non-null  float64\n",
      " 7   longitude                       20763 non-null  float64\n",
      " 8   room_type                       20763 non-null  object \n",
      " 9   price                           20736 non-null  float64\n",
      " 10  minimum_nights                  20763 non-null  float64\n",
      " 11  number_of_reviews               20763 non-null  float64\n",
      " 12  last_review                     20763 non-null  object \n",
      " 13  reviews_per_month               20763 non-null  float64\n",
      " 14  calculated_host_listings_count  20763 non-null  float64\n",
      " 15  availability_365                20763 non-null  float64\n",
      " 16  number_of_reviews_ltm           20763 non-null  float64\n",
      " 17  license                         20770 non-null  object \n",
      " 18  rating                          20770 non-null  object \n",
      " 19  bedrooms                        20770 non-null  object \n",
      " 20  beds                            20770 non-null  int64  \n",
      " 21  baths                           20770 non-null  object \n",
      "dtypes: float64(10), int64(2), object(10)\n",
      "memory usage: 3.5+ MB\n"
     ]
    }
   ],
   "source": [
    "data.info()"
   ]
  },
  {
   "cell_type": "code",
   "execution_count": 8,
   "id": "d27b0e97",
   "metadata": {},
   "outputs": [
    {
     "data": {
      "text/html": [
       "<div>\n",
       "<style scoped>\n",
       "    .dataframe tbody tr th:only-of-type {\n",
       "        vertical-align: middle;\n",
       "    }\n",
       "\n",
       "    .dataframe tbody tr th {\n",
       "        vertical-align: top;\n",
       "    }\n",
       "\n",
       "    .dataframe thead th {\n",
       "        text-align: right;\n",
       "    }\n",
       "</style>\n",
       "<table border=\"1\" class=\"dataframe\">\n",
       "  <thead>\n",
       "    <tr style=\"text-align: right;\">\n",
       "      <th></th>\n",
       "      <th>id</th>\n",
       "      <th>host_id</th>\n",
       "      <th>latitude</th>\n",
       "      <th>longitude</th>\n",
       "      <th>price</th>\n",
       "      <th>minimum_nights</th>\n",
       "      <th>number_of_reviews</th>\n",
       "      <th>reviews_per_month</th>\n",
       "      <th>calculated_host_listings_count</th>\n",
       "      <th>availability_365</th>\n",
       "      <th>number_of_reviews_ltm</th>\n",
       "      <th>beds</th>\n",
       "    </tr>\n",
       "  </thead>\n",
       "  <tbody>\n",
       "    <tr>\n",
       "      <th>count</th>\n",
       "      <td>2.077000e+04</td>\n",
       "      <td>2.077000e+04</td>\n",
       "      <td>20763.000000</td>\n",
       "      <td>20763.000000</td>\n",
       "      <td>20736.000000</td>\n",
       "      <td>20763.000000</td>\n",
       "      <td>20763.000000</td>\n",
       "      <td>20763.000000</td>\n",
       "      <td>20763.000000</td>\n",
       "      <td>20763.000000</td>\n",
       "      <td>20763.000000</td>\n",
       "      <td>20770.000000</td>\n",
       "    </tr>\n",
       "    <tr>\n",
       "      <th>mean</th>\n",
       "      <td>3.033858e+17</td>\n",
       "      <td>1.749049e+08</td>\n",
       "      <td>40.726821</td>\n",
       "      <td>-73.939179</td>\n",
       "      <td>187.714940</td>\n",
       "      <td>28.558493</td>\n",
       "      <td>42.610605</td>\n",
       "      <td>1.257589</td>\n",
       "      <td>18.866686</td>\n",
       "      <td>206.067957</td>\n",
       "      <td>10.848962</td>\n",
       "      <td>1.723592</td>\n",
       "    </tr>\n",
       "    <tr>\n",
       "      <th>std</th>\n",
       "      <td>3.901221e+17</td>\n",
       "      <td>1.725657e+08</td>\n",
       "      <td>0.060293</td>\n",
       "      <td>0.061403</td>\n",
       "      <td>1023.245124</td>\n",
       "      <td>33.532697</td>\n",
       "      <td>73.523401</td>\n",
       "      <td>1.904472</td>\n",
       "      <td>70.921443</td>\n",
       "      <td>135.077259</td>\n",
       "      <td>21.354876</td>\n",
       "      <td>1.211993</td>\n",
       "    </tr>\n",
       "    <tr>\n",
       "      <th>min</th>\n",
       "      <td>2.595000e+03</td>\n",
       "      <td>1.678000e+03</td>\n",
       "      <td>40.500314</td>\n",
       "      <td>-74.249840</td>\n",
       "      <td>10.000000</td>\n",
       "      <td>1.000000</td>\n",
       "      <td>1.000000</td>\n",
       "      <td>0.010000</td>\n",
       "      <td>1.000000</td>\n",
       "      <td>0.000000</td>\n",
       "      <td>0.000000</td>\n",
       "      <td>1.000000</td>\n",
       "    </tr>\n",
       "    <tr>\n",
       "      <th>25%</th>\n",
       "      <td>2.707260e+07</td>\n",
       "      <td>2.041184e+07</td>\n",
       "      <td>40.684159</td>\n",
       "      <td>-73.980755</td>\n",
       "      <td>80.000000</td>\n",
       "      <td>30.000000</td>\n",
       "      <td>4.000000</td>\n",
       "      <td>0.210000</td>\n",
       "      <td>1.000000</td>\n",
       "      <td>87.000000</td>\n",
       "      <td>1.000000</td>\n",
       "      <td>1.000000</td>\n",
       "    </tr>\n",
       "    <tr>\n",
       "      <th>50%</th>\n",
       "      <td>4.992852e+07</td>\n",
       "      <td>1.086990e+08</td>\n",
       "      <td>40.722890</td>\n",
       "      <td>-73.949597</td>\n",
       "      <td>125.000000</td>\n",
       "      <td>30.000000</td>\n",
       "      <td>14.000000</td>\n",
       "      <td>0.650000</td>\n",
       "      <td>2.000000</td>\n",
       "      <td>215.000000</td>\n",
       "      <td>3.000000</td>\n",
       "      <td>1.000000</td>\n",
       "    </tr>\n",
       "    <tr>\n",
       "      <th>75%</th>\n",
       "      <td>7.220000e+17</td>\n",
       "      <td>3.143997e+08</td>\n",
       "      <td>40.763106</td>\n",
       "      <td>-73.917475</td>\n",
       "      <td>199.000000</td>\n",
       "      <td>30.000000</td>\n",
       "      <td>49.000000</td>\n",
       "      <td>1.800000</td>\n",
       "      <td>5.000000</td>\n",
       "      <td>353.000000</td>\n",
       "      <td>15.000000</td>\n",
       "      <td>2.000000</td>\n",
       "    </tr>\n",
       "    <tr>\n",
       "      <th>max</th>\n",
       "      <td>1.050000e+18</td>\n",
       "      <td>5.504035e+08</td>\n",
       "      <td>40.911147</td>\n",
       "      <td>-73.713650</td>\n",
       "      <td>100000.000000</td>\n",
       "      <td>1250.000000</td>\n",
       "      <td>1865.000000</td>\n",
       "      <td>75.490000</td>\n",
       "      <td>713.000000</td>\n",
       "      <td>365.000000</td>\n",
       "      <td>1075.000000</td>\n",
       "      <td>42.000000</td>\n",
       "    </tr>\n",
       "  </tbody>\n",
       "</table>\n",
       "</div>"
      ],
      "text/plain": [
       "                 id       host_id      latitude     longitude          price  \\\n",
       "count  2.077000e+04  2.077000e+04  20763.000000  20763.000000   20736.000000   \n",
       "mean   3.033858e+17  1.749049e+08     40.726821    -73.939179     187.714940   \n",
       "std    3.901221e+17  1.725657e+08      0.060293      0.061403    1023.245124   \n",
       "min    2.595000e+03  1.678000e+03     40.500314    -74.249840      10.000000   \n",
       "25%    2.707260e+07  2.041184e+07     40.684159    -73.980755      80.000000   \n",
       "50%    4.992852e+07  1.086990e+08     40.722890    -73.949597     125.000000   \n",
       "75%    7.220000e+17  3.143997e+08     40.763106    -73.917475     199.000000   \n",
       "max    1.050000e+18  5.504035e+08     40.911147    -73.713650  100000.000000   \n",
       "\n",
       "       minimum_nights  number_of_reviews  reviews_per_month  \\\n",
       "count    20763.000000       20763.000000       20763.000000   \n",
       "mean        28.558493          42.610605           1.257589   \n",
       "std         33.532697          73.523401           1.904472   \n",
       "min          1.000000           1.000000           0.010000   \n",
       "25%         30.000000           4.000000           0.210000   \n",
       "50%         30.000000          14.000000           0.650000   \n",
       "75%         30.000000          49.000000           1.800000   \n",
       "max       1250.000000        1865.000000          75.490000   \n",
       "\n",
       "       calculated_host_listings_count  availability_365  \\\n",
       "count                    20763.000000      20763.000000   \n",
       "mean                        18.866686        206.067957   \n",
       "std                         70.921443        135.077259   \n",
       "min                          1.000000          0.000000   \n",
       "25%                          1.000000         87.000000   \n",
       "50%                          2.000000        215.000000   \n",
       "75%                          5.000000        353.000000   \n",
       "max                        713.000000        365.000000   \n",
       "\n",
       "       number_of_reviews_ltm          beds  \n",
       "count           20763.000000  20770.000000  \n",
       "mean               10.848962      1.723592  \n",
       "std                21.354876      1.211993  \n",
       "min                 0.000000      1.000000  \n",
       "25%                 1.000000      1.000000  \n",
       "50%                 3.000000      1.000000  \n",
       "75%                15.000000      2.000000  \n",
       "max              1075.000000     42.000000  "
      ]
     },
     "execution_count": 8,
     "metadata": {},
     "output_type": "execute_result"
    }
   ],
   "source": [
    "# Statistical Summary\n",
    "data.describe()"
   ]
  },
  {
   "cell_type": "markdown",
   "id": "8e1337bb",
   "metadata": {},
   "source": [
    " 4. Data Cleaning"
   ]
  },
  {
   "cell_type": "markdown",
   "id": "2c4fa55b",
   "metadata": {},
   "source": [
    "4. 1. If there any missing values"
   ]
  },
  {
   "cell_type": "code",
   "execution_count": 9,
   "id": "dc4c62f3",
   "metadata": {},
   "outputs": [
    {
     "data": {
      "text/plain": [
       "id                                0\n",
       "name                              0\n",
       "host_id                           0\n",
       "host_name                         0\n",
       "neighbourhood_group               0\n",
       "neighbourhood                     0\n",
       "latitude                          0\n",
       "longitude                         0\n",
       "room_type                         0\n",
       "price                             0\n",
       "minimum_nights                    0\n",
       "number_of_reviews                 0\n",
       "last_review                       0\n",
       "reviews_per_month                 0\n",
       "calculated_host_listings_count    0\n",
       "availability_365                  0\n",
       "number_of_reviews_ltm             0\n",
       "license                           0\n",
       "rating                            0\n",
       "bedrooms                          0\n",
       "beds                              0\n",
       "baths                             0\n",
       "dtype: int64"
      ]
     },
     "execution_count": 9,
     "metadata": {},
     "output_type": "execute_result"
    }
   ],
   "source": [
    "data.isnull().sum()\n",
    "\n",
    "# dropping all missing values rows\n",
    "data.dropna(inplace=True)\n",
    "\n",
    "# data.fillna()\n",
    "data.isnull().sum()"
   ]
  },
  {
   "cell_type": "markdown",
   "id": "32112801",
   "metadata": {},
   "source": [
    "4. 2. If there any duplicates data"
   ]
  },
  {
   "cell_type": "code",
   "execution_count": 10,
   "id": "39cf1050",
   "metadata": {},
   "outputs": [
    {
     "data": {
      "text/plain": [
       "0"
      ]
     },
     "execution_count": 10,
     "metadata": {},
     "output_type": "execute_result"
    }
   ],
   "source": [
    "# dealing with duplicates rows\n",
    "data.duplicated().sum()\n",
    "\n",
    "# deleting all duplicated rows\n",
    "# data[data.duplicated()]\n",
    "\n",
    "data.drop_duplicates(inplace=True)\n",
    "data.duplicated().sum()"
   ]
  },
  {
   "cell_type": "markdown",
   "id": "e4d9e525",
   "metadata": {},
   "source": [
    "4. 3. changing data types "
   ]
  },
  {
   "cell_type": "code",
   "execution_count": 11,
   "id": "3ec6ba68",
   "metadata": {},
   "outputs": [
    {
     "data": {
      "text/plain": [
       "id                                 object\n",
       "name                               object\n",
       "host_id                            object\n",
       "host_name                          object\n",
       "neighbourhood_group                object\n",
       "neighbourhood                      object\n",
       "latitude                          float64\n",
       "longitude                         float64\n",
       "room_type                          object\n",
       "price                             float64\n",
       "minimum_nights                    float64\n",
       "number_of_reviews                 float64\n",
       "last_review                        object\n",
       "reviews_per_month                 float64\n",
       "calculated_host_listings_count    float64\n",
       "availability_365                  float64\n",
       "number_of_reviews_ltm             float64\n",
       "license                            object\n",
       "rating                             object\n",
       "bedrooms                           object\n",
       "beds                                int64\n",
       "baths                              object\n",
       "dtype: object"
      ]
     },
     "execution_count": 11,
     "metadata": {},
     "output_type": "execute_result"
    }
   ],
   "source": [
    "# type casting \n",
    "# changing data types \n",
    "\n",
    "data.dtypes\n",
    "\n",
    "data['id'] = data['id'].astype(object)\n",
    "data.dtypes\n",
    "\n",
    "data['host_id'] = data['host_id'].astype(object)\n",
    "data.dtypes"
   ]
  },
  {
   "cell_type": "markdown",
   "id": "fdc9173e",
   "metadata": {},
   "source": [
    "5. Data Analysis"
   ]
  },
  {
   "cell_type": "code",
   "execution_count": 14,
   "id": "6ca80c10",
   "metadata": {},
   "outputs": [
    {
     "data": {
      "text/plain": [
       "<Axes: xlabel='price', ylabel='Count'>"
      ]
     },
     "execution_count": 14,
     "metadata": {},
     "output_type": "execute_result"
    },
    {
     "data": {
      "image/png": "[encoded data removed]",
      "text/plain": [
       "<Figure size 640x480 with 1 Axes>"
      ]
     },
     "metadata": {},
     "output_type": "display_data"
    }
   ],
   "source": [
    "sns.histplot(data=data, x='price')\n"
   ]
  },
  {
   "cell_type": "code",
   "execution_count": 15,
   "id": "b8cbfa5b",
   "metadata": {},
   "outputs": [
    {
     "data": {
      "text/plain": [
       "<Axes: xlabel='price'>"
      ]
     },
     "execution_count": 15,
     "metadata": {},
     "output_type": "execute_result"
    },
    {
     "data": {
      "image/png": "[encoded data removed]",
      "text/plain": [
       "<Figure size 640x480 with 1 Axes>"
      ]
     },
     "metadata": {},
     "output_type": "display_data"
    }
   ],
   "source": [
    "sns.boxplot(data=data, x='price')"
   ]
  },
  {
   "cell_type": "code",
   "execution_count": 12,
   "id": "bb2be1e0",
   "metadata": {},
   "outputs": [
    {
     "data": {
      "text/plain": [
       "<Axes: xlabel='price'>"
      ]
     },
     "execution_count": 12,
     "metadata": {},
     "output_type": "execute_result"
    },
    {
     "data": {
      "image/png": "[encoded data removed]",
      "text/plain": [
       "<Figure size 640x480 with 1 Axes>"
      ]
     },
     "metadata": {},
     "output_type": "display_data"
    }
   ],
   "source": [
    "\n",
    "# idenfying outliers in price\n",
    "\n",
    "df = data[data['price'] < 1500]\n",
    "\n",
    "sns.boxplot(data=df, x='price')"
   ]
  },
  {
   "cell_type": "code",
   "execution_count": 17,
   "id": "8c24440e",
   "metadata": {},
   "outputs": [
    {
     "data": {
      "image/png": "[encoded data removed]",
      "text/plain": [
       "<Figure size 800x500 with 1 Axes>"
      ]
     },
     "metadata": {},
     "output_type": "display_data"
    }
   ],
   "source": [
    "#Price distribuion\n",
    "\n",
    "plt.figure(figsize=(8, 5))\n",
    "sns.histplot(data=df, x='price', bins=100)\n",
    "plt.title('Price Distribuition')\n",
    "plt.ylabel(\"Frequency\")\n",
    "plt.show()"
   ]
  },
  {
   "cell_type": "code",
   "execution_count": 18,
   "id": "e28a464f",
   "metadata": {},
   "outputs": [
    {
     "data": {
      "text/plain": [
       "id                                 object\n",
       "name                               object\n",
       "host_id                            object\n",
       "host_name                          object\n",
       "neighbourhood_group                object\n",
       "neighbourhood                      object\n",
       "latitude                          float64\n",
       "longitude                         float64\n",
       "room_type                          object\n",
       "price                             float64\n",
       "minimum_nights                    float64\n",
       "number_of_reviews                 float64\n",
       "last_review                        object\n",
       "reviews_per_month                 float64\n",
       "calculated_host_listings_count    float64\n",
       "availability_365                  float64\n",
       "number_of_reviews_ltm             float64\n",
       "license                            object\n",
       "rating                             object\n",
       "bedrooms                           object\n",
       "beds                                int64\n",
       "baths                              object\n",
       "dtype: object"
      ]
     },
     "execution_count": 18,
     "metadata": {},
     "output_type": "execute_result"
    }
   ],
   "source": [
    "df.dtypes\n"
   ]
  },
  {
   "cell_type": "code",
   "execution_count": null,
   "id": "b89a3e24",
   "metadata": {},
   "outputs": [
    {
     "data": {
      "image/png": "[encoded data removed]",
      "text/plain": [
       "<Figure size 600x300 with 1 Axes>"
      ]
     },
     "metadata": {},
     "output_type": "display_data"
    }
   ],
   "source": [
    "#availability_365 Distribuition\n",
    "plt.figure(figsize=(6, 3))\n",
    "sns.histplot(data=df, x='availability_365')\n",
    "plt.title('availability_365 Distribuition')\n",
    "plt.ylabel(\"Frequency\")\n",
    "plt.show()"
   ]
  },
  {
   "cell_type": "code",
   "execution_count": 20,
   "id": "728a705a",
   "metadata": {},
   "outputs": [
    {
     "data": {
      "text/plain": [
       "id                                 object\n",
       "name                               object\n",
       "host_id                            object\n",
       "host_name                          object\n",
       "neighbourhood_group                object\n",
       "neighbourhood                      object\n",
       "latitude                          float64\n",
       "longitude                         float64\n",
       "room_type                          object\n",
       "price                             float64\n",
       "minimum_nights                    float64\n",
       "number_of_reviews                 float64\n",
       "last_review                        object\n",
       "reviews_per_month                 float64\n",
       "calculated_host_listings_count    float64\n",
       "availability_365                  float64\n",
       "number_of_reviews_ltm             float64\n",
       "license                            object\n",
       "rating                             object\n",
       "bedrooms                           object\n",
       "beds                                int64\n",
       "baths                              object\n",
       "dtype: object"
      ]
     },
     "execution_count": 20,
     "metadata": {},
     "output_type": "execute_result"
    }
   ],
   "source": [
    "data.dtypes\n"
   ]
  },
  {
   "cell_type": "code",
   "execution_count": 21,
   "id": "2a506ad9",
   "metadata": {},
   "outputs": [
    {
     "data": {
      "text/plain": [
       "neighbourhood_group\n",
       "Bronx            107.990506\n",
       "Brooklyn         155.138317\n",
       "Manhattan        204.146014\n",
       "Queens           121.681939\n",
       "Staten Island    118.780069\n",
       "Name: price, dtype: float64"
      ]
     },
     "execution_count": 21,
     "metadata": {},
     "output_type": "execute_result"
    }
   ],
   "source": [
    "df.groupby(by='neighbourhood_group')['price'].mean()"
   ]
  },
  {
   "cell_type": "code",
   "execution_count": null,
   "id": "8ec70569",
   "metadata": {},
   "outputs": [
    {
     "name": "stderr",
     "output_type": "stream",
     "text": [
      "C:\\Users\\Adel\\AppData\\Local\\Temp\\ipykernel_24032\\630382909.py:1: SettingWithCopyWarning: \n",
      "A value is trying to be set on a copy of a slice from a DataFrame.\n",
      "Try using .loc[row_indexer,col_indexer] = value instead\n",
      "\n",
      "See the caveats in the documentation: https://pandas.pydata.org/pandas-docs/stable/user_guide/indexing.html#returning-a-view-versus-a-copy\n",
      "  df['price per bed']= df['price']/df['beds']\n"
     ]
    },
    {
     "data": {
      "text/plain": [
       "0      55.0\n",
       "1     144.0\n",
       "2      93.5\n",
       "3     120.0\n",
       "4      85.0\n",
       "5     115.0\n",
       "11    105.0\n",
       "12     65.0\n",
       "13     90.0\n",
       "14    292.0\n",
       "Name: price per bed, dtype: float64"
      ]
     },
     "execution_count": 22,
     "metadata": {},
     "output_type": "execute_result"
    }
   ],
   "source": [
    "# new column creation\n",
    "# price per bed\n",
    "df['price per bed']= df['price']/df['beds']\n",
    "df['price per bed'].head(10)"
   ]
  },
  {
   "cell_type": "code",
   "execution_count": 24,
   "id": "4892db86",
   "metadata": {},
   "outputs": [
    {
     "data": {
      "text/html": [
       "<div>\n",
       "<style scoped>\n",
       "    .dataframe tbody tr th:only-of-type {\n",
       "        vertical-align: middle;\n",
       "    }\n",
       "\n",
       "    .dataframe tbody tr th {\n",
       "        vertical-align: top;\n",
       "    }\n",
       "\n",
       "    .dataframe thead th {\n",
       "        text-align: right;\n",
       "    }\n",
       "</style>\n",
       "<table border=\"1\" class=\"dataframe\">\n",
       "  <thead>\n",
       "    <tr style=\"text-align: right;\">\n",
       "      <th></th>\n",
       "      <th>id</th>\n",
       "      <th>name</th>\n",
       "      <th>host_id</th>\n",
       "      <th>host_name</th>\n",
       "      <th>neighbourhood_group</th>\n",
       "      <th>neighbourhood</th>\n",
       "      <th>latitude</th>\n",
       "      <th>longitude</th>\n",
       "      <th>room_type</th>\n",
       "      <th>price</th>\n",
       "      <th>...</th>\n",
       "      <th>reviews_per_month</th>\n",
       "      <th>calculated_host_listings_count</th>\n",
       "      <th>availability_365</th>\n",
       "      <th>number_of_reviews_ltm</th>\n",
       "      <th>license</th>\n",
       "      <th>rating</th>\n",
       "      <th>bedrooms</th>\n",
       "      <th>beds</th>\n",
       "      <th>baths</th>\n",
       "      <th>price per bed</th>\n",
       "    </tr>\n",
       "  </thead>\n",
       "  <tbody>\n",
       "    <tr>\n",
       "      <th>0</th>\n",
       "      <td>1312228.0</td>\n",
       "      <td>Rental unit in Brooklyn · ★5.0 · 1 bedroom</td>\n",
       "      <td>7130382</td>\n",
       "      <td>Walter</td>\n",
       "      <td>Brooklyn</td>\n",
       "      <td>Clinton Hill</td>\n",
       "      <td>40.683710</td>\n",
       "      <td>-73.964610</td>\n",
       "      <td>Private room</td>\n",
       "      <td>55.0</td>\n",
       "      <td>...</td>\n",
       "      <td>0.03</td>\n",
       "      <td>1.0</td>\n",
       "      <td>0.0</td>\n",
       "      <td>0.0</td>\n",
       "      <td>No License</td>\n",
       "      <td>5</td>\n",
       "      <td>1</td>\n",
       "      <td>1</td>\n",
       "      <td>Not specified</td>\n",
       "      <td>55.0</td>\n",
       "    </tr>\n",
       "    <tr>\n",
       "      <th>1</th>\n",
       "      <td>45277537.0</td>\n",
       "      <td>Rental unit in New York · ★4.67 · 2 bedrooms ·...</td>\n",
       "      <td>51501835</td>\n",
       "      <td>Jeniffer</td>\n",
       "      <td>Manhattan</td>\n",
       "      <td>Hell's Kitchen</td>\n",
       "      <td>40.766610</td>\n",
       "      <td>-73.988100</td>\n",
       "      <td>Entire home/apt</td>\n",
       "      <td>144.0</td>\n",
       "      <td>...</td>\n",
       "      <td>0.24</td>\n",
       "      <td>139.0</td>\n",
       "      <td>364.0</td>\n",
       "      <td>2.0</td>\n",
       "      <td>No License</td>\n",
       "      <td>4.67</td>\n",
       "      <td>2</td>\n",
       "      <td>1</td>\n",
       "      <td>1</td>\n",
       "      <td>144.0</td>\n",
       "    </tr>\n",
       "    <tr>\n",
       "      <th>2</th>\n",
       "      <td>971000000000000000.0</td>\n",
       "      <td>Rental unit in New York · ★4.17 · 1 bedroom · ...</td>\n",
       "      <td>528871354</td>\n",
       "      <td>Joshua</td>\n",
       "      <td>Manhattan</td>\n",
       "      <td>Chelsea</td>\n",
       "      <td>40.750764</td>\n",
       "      <td>-73.994605</td>\n",
       "      <td>Entire home/apt</td>\n",
       "      <td>187.0</td>\n",
       "      <td>...</td>\n",
       "      <td>1.67</td>\n",
       "      <td>1.0</td>\n",
       "      <td>343.0</td>\n",
       "      <td>6.0</td>\n",
       "      <td>Exempt</td>\n",
       "      <td>4.17</td>\n",
       "      <td>1</td>\n",
       "      <td>2</td>\n",
       "      <td>1</td>\n",
       "      <td>93.5</td>\n",
       "    </tr>\n",
       "    <tr>\n",
       "      <th>3</th>\n",
       "      <td>3857863.0</td>\n",
       "      <td>Rental unit in New York · ★4.64 · 1 bedroom · ...</td>\n",
       "      <td>19902271</td>\n",
       "      <td>John And Catherine</td>\n",
       "      <td>Manhattan</td>\n",
       "      <td>Washington Heights</td>\n",
       "      <td>40.835600</td>\n",
       "      <td>-73.942500</td>\n",
       "      <td>Private room</td>\n",
       "      <td>120.0</td>\n",
       "      <td>...</td>\n",
       "      <td>1.38</td>\n",
       "      <td>2.0</td>\n",
       "      <td>363.0</td>\n",
       "      <td>12.0</td>\n",
       "      <td>No License</td>\n",
       "      <td>4.64</td>\n",
       "      <td>1</td>\n",
       "      <td>1</td>\n",
       "      <td>1</td>\n",
       "      <td>120.0</td>\n",
       "    </tr>\n",
       "    <tr>\n",
       "      <th>4</th>\n",
       "      <td>40896611.0</td>\n",
       "      <td>Condo in New York · ★4.91 · Studio · 1 bed · 1...</td>\n",
       "      <td>61391963</td>\n",
       "      <td>Stay With Vibe</td>\n",
       "      <td>Manhattan</td>\n",
       "      <td>Murray Hill</td>\n",
       "      <td>40.751120</td>\n",
       "      <td>-73.978600</td>\n",
       "      <td>Entire home/apt</td>\n",
       "      <td>85.0</td>\n",
       "      <td>...</td>\n",
       "      <td>0.24</td>\n",
       "      <td>133.0</td>\n",
       "      <td>335.0</td>\n",
       "      <td>3.0</td>\n",
       "      <td>No License</td>\n",
       "      <td>4.91</td>\n",
       "      <td>Studio</td>\n",
       "      <td>1</td>\n",
       "      <td>1</td>\n",
       "      <td>85.0</td>\n",
       "    </tr>\n",
       "  </tbody>\n",
       "</table>\n",
       "<p>5 rows × 23 columns</p>\n",
       "</div>"
      ],
      "text/plain": [
       "                     id                                               name  \\\n",
       "0             1312228.0         Rental unit in Brooklyn · ★5.0 · 1 bedroom   \n",
       "1            45277537.0  Rental unit in New York · ★4.67 · 2 bedrooms ·...   \n",
       "2  971000000000000000.0  Rental unit in New York · ★4.17 · 1 bedroom · ...   \n",
       "3             3857863.0  Rental unit in New York · ★4.64 · 1 bedroom · ...   \n",
       "4            40896611.0  Condo in New York · ★4.91 · Studio · 1 bed · 1...   \n",
       "\n",
       "     host_id           host_name neighbourhood_group       neighbourhood  \\\n",
       "0    7130382              Walter            Brooklyn        Clinton Hill   \n",
       "1   51501835            Jeniffer           Manhattan      Hell's Kitchen   \n",
       "2  528871354              Joshua           Manhattan             Chelsea   \n",
       "3   19902271  John And Catherine           Manhattan  Washington Heights   \n",
       "4   61391963      Stay With Vibe           Manhattan         Murray Hill   \n",
       "\n",
       "    latitude  longitude        room_type  price  ...  reviews_per_month  \\\n",
       "0  40.683710 -73.964610     Private room   55.0  ...               0.03   \n",
       "1  40.766610 -73.988100  Entire home/apt  144.0  ...               0.24   \n",
       "2  40.750764 -73.994605  Entire home/apt  187.0  ...               1.67   \n",
       "3  40.835600 -73.942500     Private room  120.0  ...               1.38   \n",
       "4  40.751120 -73.978600  Entire home/apt   85.0  ...               0.24   \n",
       "\n",
       "   calculated_host_listings_count availability_365  number_of_reviews_ltm  \\\n",
       "0                             1.0              0.0                    0.0   \n",
       "1                           139.0            364.0                    2.0   \n",
       "2                             1.0            343.0                    6.0   \n",
       "3                             2.0            363.0                   12.0   \n",
       "4                           133.0            335.0                    3.0   \n",
       "\n",
       "      license  rating  bedrooms beds          baths price per bed  \n",
       "0  No License       5         1    1  Not specified          55.0  \n",
       "1  No License    4.67         2    1              1         144.0  \n",
       "2      Exempt    4.17         1    2              1          93.5  \n",
       "3  No License    4.64         1    1              1         120.0  \n",
       "4  No License    4.91    Studio    1              1          85.0  \n",
       "\n",
       "[5 rows x 23 columns]"
      ]
     },
     "execution_count": 24,
     "metadata": {},
     "output_type": "execute_result"
    }
   ],
   "source": [
    "df.head()"
   ]
  },
  {
   "cell_type": "code",
   "execution_count": 25,
   "id": "b5ccf23a",
   "metadata": {},
   "outputs": [
    {
     "data": {
      "text/plain": [
       "neighbourhood_group\n",
       "Bronx             74.713639\n",
       "Brooklyn          99.788493\n",
       "Manhattan        138.708057\n",
       "Queens            76.336210\n",
       "Staten Island     67.728101\n",
       "Name: price per bed, dtype: float64"
      ]
     },
     "execution_count": 25,
     "metadata": {},
     "output_type": "execute_result"
    }
   ],
   "source": [
    "# average price per bed in each neighbourhood group\n",
    "df.groupby(by='neighbourhood_group')['price per bed'].mean()"
   ]
  }
 ],
 "metadata": {
  "kernelspec": {
   "display_name": "base",
   "language": "python",
   "name": "python3"
  },
  "language_info": {
   "codemirror_mode": {
    "name": "ipython",
    "version": 3
   },
   "file_extension": ".py",
   "mimetype": "text/x-python",
   "name": "python",
   "nbconvert_exporter": "python",
   "pygments_lexer": "ipython3",
   "version": "3.12.7"
  }
 },
 "nbformat": 4,
 "nbformat_minor": 5
}
