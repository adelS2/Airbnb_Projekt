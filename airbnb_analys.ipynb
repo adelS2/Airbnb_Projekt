{
 "cells": [
  {
   "cell_type": "markdown",
   "id": "7f64ce73",
   "metadata": {},
   "source": [
    "## Python Project EDA & Data Viz - AirBnB Listing 2024(New York)\n",
    "### steps\n",
    "\n",
    "1. importing all dependenices (lib)\n",
    "2. loading datasets\n",
    "3. initial exploration\n",
    "4. Data cleaning\n",
    "5. Data Analysis"
   ]
  },
  {
   "cell_type": "markdown",
   "id": "62c8b281",
   "metadata": {},
   "source": [
    "1. importing all dependenices (lib)"
   ]
  },
  {
   "cell_type": "code",
   "execution_count": 1,
   "id": "7c96cf51",
   "metadata": {},
   "outputs": [],
   "source": [
    "import pandas as pd\n",
    "import numpy as np\n",
    "import matplotlib.pyplot as plt\n",
    "import seaborn as sns\n",
    "\n",
    "%matplotlib inline"
   ]
  }
 ],
 "metadata": {
  "kernelspec": {
   "display_name": "base",
   "language": "python",
   "name": "python3"
  },
  "language_info": {
   "codemirror_mode": {
    "name": "ipython",
    "version": 3
   },
   "file_extension": ".py",
   "mimetype": "text/x-python",
   "name": "python",
   "nbconvert_exporter": "python",
   "pygments_lexer": "ipython3",
   "version": "3.12.7"
  }
 },
 "nbformat": 4,
 "nbformat_minor": 5
}
